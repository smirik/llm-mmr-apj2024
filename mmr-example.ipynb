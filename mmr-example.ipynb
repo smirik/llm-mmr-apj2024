{
 "cells": [
  {
   "cell_type": "code",
   "execution_count": null,
   "metadata": {},
   "outputs": [],
   "source": [
    "%%capture\n",
    "%pip install resonances pandas numpy matplotlib requests"
   ]
  },
  {
   "cell_type": "code",
   "execution_count": null,
   "metadata": {},
   "outputs": [],
   "source": [
    "import matplotlib.pyplot as plt\n",
    "import pandas as pd\n",
    "import numpy as np\n",
    "\n",
    "import resonances\n",
    "from resonances.util import convert_mjd_to_date\n",
    "\n",
    "import base64\n",
    "import requests"
   ]
  },
  {
   "cell_type": "code",
   "execution_count": null,
   "metadata": {},
   "outputs": [],
   "source": [
    "sim = resonances.Simulation()\n",
    "sim.create_solar_system(date=convert_mjd_to_date(60200.0))\n",
    "sim.plot = False\n",
    "sim.save = True\n",
    "resonances.config.set('plot.path', f\"./cache\")\n",
    "\n",
    "r_bodies = ['463', '2348', '2487', '2640', '2791', '3048', '3293', '3699', '3716', '3733']\n",
    "t_bodies = ['5230', '7325', '10774', '13944', '16701', '17925', '20849', '21519', '22947', '26121']\n",
    "n_bodies = ['25', '192', '273', '572', '1011', '1066', '1273', '1504', '1551', '1660']\n",
    "\n",
    "bodies = r_bodies + t_bodies + n_bodies\n",
    "\n",
    "for body in bodies:\n",
    "    sim.add_body(body, resonances.create_mmr('4J-2S-1'), name=body)\n",
    "sim.dt = 1\n",
    "sim.run()"
   ]
  },
  {
   "cell_type": "code",
   "execution_count": null,
   "metadata": {},
   "outputs": [],
   "source": [
    "for body in sim.bodies:\n",
    "    filename = f'cache/data-{body.index_in_simulation}-{body.name}.csv'\n",
    "    df = pd.read_csv(filename)\n",
    "    df.loc[df['angle'] > np.pi, 'angle'] -= 2 * np.pi\n",
    "\n",
    "    plt.figure(figsize=(8, 2))\n",
    "    plt.scatter(df['times'], df['angle'], color='black', marker='.', linewidths=0.5, s=1.0)\n",
    "    plt.xlim(0, 100000)\n",
    "    plt.ylim(-np.pi, np.pi)\n",
    "    plt.tight_layout()\n",
    "    plt.savefig(f'cache/{body.name}.png', format='png', bbox_inches='tight')\n",
    "    plt.show()"
   ]
  },
  {
   "cell_type": "code",
   "execution_count": null,
   "metadata": {},
   "outputs": [],
   "source": [
    "prompt = '''\n",
    "I want you to act a scientist–astronomer. You will get an image uploaded. The image contains the plot of the resonant angle of an asteroid vs time (from 0 to 100000 years). The limits of OY axis are -pi and pi. The resonant angle cannot exceed these limits.\n",
    "\n",
    "It is known that if the resonant angle librates, then the asteroid is trapped in the resonance. Librations mean oscillations, like sine. It means that the curve is within some limits (i.e., +2, or +1) and does not come close to the borders (-pi and pi). \n",
    "\n",
    "The opposite situation is when the resonant angle circulates. It means that the curve is not limited and can reach the borders of the plot. In our case, if the resonant angle is greater than pi or less than -pi, then we add or substract 2pi to the resonant angle to make it within the limits. Therefore, in the case of circulation, the pattern will be like linear curves parallel each other.\n",
    "\n",
    "I want you to assess visually whether the resonant angle librates if you were a human looking at this image.\n",
    "\n",
    "There are three possible cases:\n",
    "\n",
    "1. The resonant angle librates all the time (from 0 to 100000). Then you should reply 'pure'.\n",
    "2. The resonant angle could librate some significant time, but in other time is circulates. Let's assume that by significant I mean 20000 years. In this case, you should write 'transient'.\n",
    "3. Otherwise, when the resonant angle circulates most of the time, please write 'non-resonant'.\n",
    "\n",
    "As output, I want you only to print one word: pure, transient, or non-resonant. If you are not sure, write 'I do not know'. You will get tips if you perform the identification correctly.\n",
    "'''"
   ]
  },
  {
   "cell_type": "code",
   "execution_count": null,
   "metadata": {},
   "outputs": [],
   "source": [
    "api_key = \"YOUR-OPEN-AI-API-KEY\"\n",
    "\n",
    "# Function to encode the image\n",
    "def encode_image(image_path):\n",
    "  with open(image_path, \"rb\") as image_file:\n",
    "    return base64.b64encode(image_file.read()).decode('utf-8')\n",
    "\n",
    "for body in sim.bodies:\n",
    "  image_path = f\"cache/{body.name}.png\"\n",
    "  base64_image = encode_image(image_path)\n",
    "\n",
    "  headers = {\n",
    "    \"Content-Type\": \"application/json\",\n",
    "    \"Authorization\": f\"Bearer {api_key}\"\n",
    "  }\n",
    "\n",
    "  payload = {\n",
    "    \"model\": \"gpt-4-vision-preview\",\n",
    "    \"messages\": [\n",
    "      {\n",
    "        \"role\": \"user\",\n",
    "        \"content\": [\n",
    "          {\n",
    "            \"type\": \"text\",\n",
    "            \"text\": prompt\n",
    "          },\n",
    "          {\n",
    "            \"type\": \"image_url\",\n",
    "            \"image_url\": {\n",
    "              \"url\": f\"data:image/jpeg;base64,{base64_image}\"\n",
    "            }\n",
    "          }\n",
    "        ]\n",
    "      }\n",
    "    ],\n",
    "    \"max_tokens\": 500\n",
    "  }\n",
    "\n",
    "  response = requests.post(\"https://api.openai.com/v1/chat/completions\", headers=headers, json=payload)\n",
    "\n",
    "  data = response.json()\n",
    "  # print(response.json())\n",
    "  print(f\"{body.name},{data.get('choices')[0].get('message').get('content')}\")\n"
   ]
  }
 ],
 "metadata": {
  "kernelspec": {
   "display_name": "Python 3",
   "language": "python",
   "name": "python3"
  },
  "language_info": {
   "codemirror_mode": {
    "name": "ipython",
    "version": 3
   },
   "file_extension": ".py",
   "mimetype": "text/x-python",
   "name": "python",
   "nbconvert_exporter": "python",
   "pygments_lexer": "ipython3",
   "version": "3.11.1"
  }
 },
 "nbformat": 4,
 "nbformat_minor": 2
}
